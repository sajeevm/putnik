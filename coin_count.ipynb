{
 "cells": [
  {
   "cell_type": "code",
   "execution_count": 63,
   "metadata": {
    "collapsed": false
   },
   "outputs": [
    {
     "name": "stdout",
     "output_type": "stream",
     "text": [
      "enter sum = 10\n",
      "enter coins seperated by space = 1 5\n",
      "total combinations =  3\n"
     ]
    }
   ],
   "source": [
    "\"\"\"\n",
    "Author: Sajeev Madhavan\n",
    "Date: July 15 2016\n",
    "Interview question - Count number of combinations of coin denominations that totals a given sum\n",
    "The problem assumes : \n",
    "    There is indefinite number of each denomination to use and no minimal coin demonination to consider\n",
    "\n",
    "When the program is executed, it ask user to enter sum and list of coins separated by space\n",
    "\"\"\"\n",
    "\n",
    "def coin_count(coins, total_value):\n",
    "    \n",
    "    #if total value is 0 then no combinations possible\n",
    "    if(total_value <= 0):\n",
    "        return 0\n",
    "    \n",
    "    m = len(coins)\n",
    "    \n",
    "    # initialize the matrix to count the total combination\n",
    "    # for initial row i.e. for count value 0 set to 1 else set the value to 0\n",
    "    \n",
    "    matrix = [[1 if y ==0 else 0 for x in range(m)] for y in range(total_value + 1)]\n",
    "    \n",
    "    # Fill the matrix by counting the combinations\n",
    "    \n",
    "    for i in range(1, total_value + 1):\n",
    "        for j in range(m):\n",
    "            \n",
    "            # Count combinations that has the coin coins[j]\n",
    "            if (i-coins[j] >= 0):\n",
    "                coin_in = matrix[i - coins[j]][j]\n",
    "            else:\n",
    "                coin_in = 0\n",
    " \n",
    "            # Count combinations that does not have the coin coins[j]\n",
    "            if (j >= 1):\n",
    "            \n",
    "                coin_out = matrix[i][j-1]\n",
    "            else:\n",
    "                coin_out = 0\n",
    " \n",
    "            # total count\n",
    "            matrix[i][j] = coin_in + coin_out\n",
    " \n",
    "    return matrix[total_value][m-1]\n",
    "\n",
    "#Main program\n",
    "\n",
    "# enter sum of amount\n",
    "sum = int(input(\"enter sum = \").strip())\n",
    "\n",
    "# enter the coin denomination separated by space\n",
    "s = [int(x) for x in input(\"enter coins separated by space = \").strip().split()]\n",
    "\n",
    "s = [1,5]\n",
    "total_combinations = coin_count(s, sum)\n",
    "\n",
    "print(\"total combinations = \", total_combinations)\n"
   ]
  }
 ],
 "metadata": {
  "kernelspec": {
   "display_name": "Python 3",
   "language": "python",
   "name": "python3"
  },
  "language_info": {
   "codemirror_mode": {
    "name": "ipython",
    "version": 3
   },
   "file_extension": ".py",
   "mimetype": "text/x-python",
   "name": "python",
   "nbconvert_exporter": "python",
   "pygments_lexer": "ipython3",
   "version": "3.4.4"
  }
 },
 "nbformat": 4,
 "nbformat_minor": 0
}
