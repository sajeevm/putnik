{
 "cells": [
  {
   "cell_type": "code",
   "execution_count": 3,
   "metadata": {
    "collapsed": false
   },
   "outputs": [
    {
     "name": "stdout",
     "output_type": "stream",
     "text": [
      "30\n",
      "False\n",
      "[1, 2, 3, 5, 7, 11, 13, 17, 19, 23, 29]\n"
     ]
    }
   ],
   "source": [
    "#efficient way to find and list prime numbers\n",
    "#need to optimize it more....consider list comprehension or lambda instead\n",
    "\n",
    "import math\n",
    "\n",
    "def isPrime(x):\n",
    "    for i in range(2, int(math.sqrt(x))+1):\n",
    "        #print(\"\"\"{} ---{} ---- {}\"\"\".format(x,i, x%i))\n",
    "        if (x%i == 0):\n",
    "            return False\n",
    "    return True\n",
    "\n",
    "maxnum = int(input())\n",
    "\n",
    "print(isPrime(maxnum))\n",
    "\n",
    "prime = [(x) for x in range(1,maxnum) if isPrime(x)]\n",
    "\n",
    "print(prime)\n",
    "\n"
   ]
  },
  {
   "cell_type": "markdown",
   "metadata": {},
   "source": [
    "# Hacker rank implementation problems"
   ]
  },
  {
   "cell_type": "code",
   "execution_count": 46,
   "metadata": {
    "collapsed": false
   },
   "outputs": [
    {
     "name": "stdout",
     "output_type": "stream",
     "text": [
      "2\n",
      "1 6\n",
      "6 8\n",
      "3\n"
     ]
    }
   ],
   "source": [
    "# hackerank : find absolute difference between 2 diagonal numbers\n",
    "\n",
    "maxnum = int(input())\n",
    "matrix = []\n",
    "\n",
    "#print(matrix)\n",
    "\n",
    "for i in range(maxnum):\n",
    "    temp = [int(x) for x in input().split()]\n",
    "    matrix.insert(i,temp)\n",
    "\n",
    "\n",
    "#absolute difference between the 2 major diagonal numbers\n",
    "diag1 = 0\n",
    "diag2 = 0\n",
    "for i in range(0,maxnum):\n",
    "    \n",
    "    diag1+=matrix[i][i]\n",
    "    diag2+=matrix[maxnum-1-i][i]\n",
    "    \n",
    "print(abs(diag1 - diag2))\n"
   ]
  },
  {
   "cell_type": "code",
   "execution_count": 61,
   "metadata": {
    "collapsed": false
   },
   "outputs": [
    {
     "name": "stdout",
     "output_type": "stream",
     "text": [
      "1\n",
      "4 2\n",
      "-1 -3 4 5\n",
      "NO\n"
     ]
    }
   ],
   "source": [
    "#hackerrank = angry professor\n",
    "\n",
    "#read number of test cases\n",
    "T = int(input())\n",
    "for i in range(T):\n",
    "    #print(\"round\" + str(i))\n",
    "    #read the number of students and max late students\n",
    "    NK = [int(x) for x in input().split()]\n",
    "    students = [(int(y)) for y in input().split()]\n",
    "    ontime = 0\n",
    "    N = NK[0]\n",
    "    K = NK[1]\n",
    "    for s in range(N):\n",
    "        if(students[s] <= 0):\n",
    "            ontime+= 1\n",
    "    \n",
    "    #ternary operator\n",
    "    print(\"NO\") if ontime >= K else print(\"YES\")\n",
    "    \n",
    "\n",
    "        \n",
    "    "
   ]
  },
  {
   "cell_type": "code",
   "execution_count": 1,
   "metadata": {
    "collapsed": false
   },
   "outputs": [
    {
     "name": "stdout",
     "output_type": "stream",
     "text": [
      "3\n",
      "7\n",
      "8\n",
      "9\n",
      "[7, 8, 9]\n"
     ]
    }
   ],
   "source": [
    "# hacker rank : sherlock and beast\n",
    "\n",
    "def sherlockKey(N):\n",
    "    if N<3:\n",
    "        return -1\n",
    "    \n",
    "    seq = \" \"\n",
    "    \n",
    "    if (N%3 == 0):\n",
    "        seq = \"5\" * (N/3)\n",
    "    elif (N%3 )\n",
    "        \n",
    "    \n",
    "    \n",
    "    \n",
    "T = int(input())\n",
    "\n",
    "numlist = []\n",
    "for i in range(0, T):\n",
    "    numlist.append(int(input()))\n",
    "\n",
    "print(numlist)\n",
    "\n",
    "    \n"
   ]
  },
  {
   "cell_type": "code",
   "execution_count": null,
   "metadata": {
    "collapsed": false
   },
   "outputs": [],
   "source": [
    "#hackerranke : Sherlock and Square\n",
    "\n",
    "import math\n",
    "\n",
    "def find_sq_count(min, max):\n",
    "    count = 0\n",
    "    for i in range(min,max+1):\n",
    "        #print(\"abs = \" + str(int(math.sqrt(i))) + \" sqrt = \" + str(math.sqrt(i)))\n",
    "        if(int(math.sqrt(i)) == math.sqrt(i)):\n",
    "           count += 1\n",
    "    return count\n",
    "\n",
    "T = int(input())\n",
    "\n",
    "numlist = []\n",
    "for i in range(0, T):\n",
    "    numlist.append([int(x) for x in input().split()])\n",
    "\n",
    "#print(numlist)\n",
    "\n",
    "for i in range(len(numlist)):\n",
    "    print(find_sq_count(numlist[i][0], numlist[i][1]))\n",
    "      \n",
    "\n",
    "\n"
   ]
  },
  {
   "cell_type": "code",
   "execution_count": 32,
   "metadata": {
    "collapsed": false
   },
   "outputs": [
    {
     "name": "stdout",
     "output_type": "stream",
     "text": [
      "1\n",
      "3 4\n",
      "1234\n",
      "4567\n",
      "4343\n",
      "2 2\n",
      "34\n",
      "67\n",
      "YES\n",
      "[['1', '2', '3', '4'], ['4', '5', '6', '7'], ['4', '3', '4', '3']]\n",
      "[['3', '4'], ['6', '7']]\n"
     ]
    }
   ],
   "source": [
    "#hackerrank : The grid search solution\n",
    "\n",
    "T = int(input())\n",
    "answer = []\n",
    "\n",
    "for i in range(0,T):\n",
    "    #print(\"enter main list row and column count:\")\n",
    "    (R, C) = input().split()\n",
    "    R = int(R)\n",
    "    C = int(C)\n",
    "\n",
    "    \n",
    "    mainlist = []\n",
    "    for j in range(0, R):\n",
    "        \n",
    "        mainlist.append(list(input()))\n",
    "    \n",
    "    #print(\"enter pattern list row and column count:\")\n",
    "    (r,c) = input().split()\n",
    "    r = int(r)\n",
    "    c = int(c)\n",
    "    \n",
    "    pattern = []\n",
    "    for j in range(0, r):\n",
    "        #pattern.append([int(x) for x in input().split()])\n",
    "        pattern.append(list(input()))\n",
    "    \n",
    "    row_comp = R-r+1\n",
    "    col_comp = C-c+1\n",
    "    \n",
    "    \n",
    "    for a in range(0, row_comp):\n",
    "        \n",
    "        for b in range(0, col_comp):\n",
    "            found = True\n",
    "            \n",
    "            for m in range(0, r):\n",
    "                \n",
    "                for n in range(0, c):\n",
    "                    if(mainlist[a + m][b + n] != pattern[m][n]):\n",
    "                        found = False;\n",
    "                    if(found == False):\n",
    "                        break\n",
    "                if(found == False):\n",
    "                    break\n",
    "            \n",
    "            if(found == True):\n",
    "                break\n",
    "            \n",
    "        if(found == True):\n",
    "            break\n",
    "    \n",
    "    if(found == True):\n",
    "        answer.append(\"YES\")\n",
    "    else:\n",
    "        answer.append(\"NO\")\n",
    "\n",
    "for p in range(len(answer)):\n",
    "    print(answer[p])\n",
    "    \n",
    "print(mainlist)\n",
    "print(pattern)\n",
    "#print(answer)\n"
   ]
  },
  {
   "cell_type": "code",
   "execution_count": 80,
   "metadata": {
    "collapsed": false
   },
   "outputs": [
    {
     "name": "stdout",
     "output_type": "stream",
     "text": [
      "5\n",
      "15\n",
      "quarter past five\n"
     ]
    }
   ],
   "source": [
    "# Hacker rank: The time in words\n",
    "\n",
    "hour = int(input())\n",
    "min = int(input())\n",
    "\n",
    "t_num = {1 : \"one\", 2 : \"two\", 3 : \"three\", 4 : \"four\", 5 : \"five\", 6 : \"six\", \\\n",
    "         7 : \"seven\", 8 : \"eight\", 9 : \"nine\", 10 : \"ten\", 11 : \"eleven\", 12 : \"twelve\", \\\n",
    "         13 : \"thirteen\", 14:\"fourteen\", 15:\"fifteen\", 16:\"sixteen\", 17:\"seventeen\", \\\n",
    "         18 : \"eighteen\", 19:\"nineteen\"}\n",
    "\n",
    "t_tens = {2 : \"twenty\", 3 : \"thirty\", 4 : \"fourty\", 5 : \"fifty\"}\n",
    "\n",
    "\n",
    "\n",
    "if (min == 0):\n",
    "    print(t_num[hour] + \" \" + \"o' clock\")\n",
    "\n",
    "elif (min == 1):\n",
    "    print(t_num[min] + \" minute past \" + t_num[hour])\n",
    "\n",
    "elif (min == 15):\n",
    "    print(\"quarter past \" + t_num[hour])\n",
    "\n",
    "elif (min < 20):\n",
    "    print(t_num[min] + \" minutes past \" + t_num[hour])\n",
    "\n",
    "elif(min == 20):\n",
    "        print(\"twenty minutes past \" + t_num[hour])\n",
    "\n",
    "elif (min < 30):\n",
    "    print(t_tens[min//10] + \" \" + t_num[min%10] + \" minutes past \" + t_num[hour])\n",
    "\n",
    "elif (min == 30):\n",
    "    print(\"half past \" + t_num[hour])\n",
    "    \n",
    "elif (min == 45):\n",
    "    print(\"quarter to \" + t_num[hour+1])\n",
    "\n",
    "elif (min > 30):\n",
    "    to_min = 60 - min\n",
    "    if(to_min ==1):\n",
    "        print(t_num[to_min] + \" minute to \" + t_num[hour+1])\n",
    "    elif(to_min < 20):\n",
    "        print(t_num[to_min] + \" minutes to \" + t_num[hour+1])\n",
    "    \n",
    "    elif(to_min == 20):\n",
    "        print(\"twenty minutes to \" + t_num[hour+1])\n",
    "    else:\n",
    "        print(t_tens[to_min//10] + \" \" + t_num[to_min%10] + \" minutes to \" + t_num[hour])\n",
    "\n",
    "\n"
   ]
  },
  {
   "cell_type": "code",
   "execution_count": 138,
   "metadata": {
    "collapsed": false
   },
   "outputs": [
    {
     "name": "stdout",
     "output_type": "stream",
     "text": [
      "chillout\n",
      "clu hlt io \n"
     ]
    }
   ],
   "source": [
    "# hacker rank encryption\n",
    "\n",
    "import math\n",
    "\n",
    "text = input().replace(' ', '')\n",
    "\n",
    "row = math.floor(math.sqrt(len(text)))\n",
    "col = math.ceil(math.sqrt(len(text)))\n",
    "\n",
    "#print(str(row) + \" \" + str(col))\n",
    "\n",
    "encryp = [text[x:x+col] for x in range(0,len(text), col) ]\n",
    "\n",
    "#print(len(encryp[row]))\n",
    "\n",
    "encryp[row] = encryp[row].ljust(col, \" \")\n",
    "\n",
    "#print(len(encryp[row]))\n",
    "\n",
    "#print(encryp)\n",
    "\n",
    "row = len(encryp)\n",
    "col = len(encryp[0])\n",
    "\n",
    "#encode = [[encryp[r][c]] for c in range(0,col) for r in range(0,row)]\n",
    "\n",
    "encode = [[encryp[r][c] for r in range(0,row)] for c in range(0,col) ]\n",
    "\n",
    "#print(encode)\n",
    "\n",
    "word = \"\"\n",
    "for i,j in enumerate(encode):\n",
    "    \n",
    "    for x in range(0, len(encode[i])):\n",
    "        word =  word + encode[i][x]\n",
    "    word = word.strip() + \" \"\n",
    "print(word)"
   ]
  },
  {
   "cell_type": "code",
   "execution_count": 85,
   "metadata": {
    "collapsed": false
   },
   "outputs": [
    {
     "name": "stdout",
     "output_type": "stream",
     "text": [
      "worldofthe\n"
     ]
    }
   ],
   "source": [
    "text = \"helloworldofthe\"\n",
    "print(text[5:15])"
   ]
  },
  {
   "cell_type": "code",
   "execution_count": null,
   "metadata": {
    "collapsed": true
   },
   "outputs": [],
   "source": []
  }
 ],
 "metadata": {
  "kernelspec": {
   "display_name": "Python 3",
   "language": "python",
   "name": "python3"
  },
  "language_info": {
   "codemirror_mode": {
    "name": "ipython",
    "version": 3
   },
   "file_extension": ".py",
   "mimetype": "text/x-python",
   "name": "python",
   "nbconvert_exporter": "python",
   "pygments_lexer": "ipython3",
   "version": "3.4.4"
  }
 },
 "nbformat": 4,
 "nbformat_minor": 0
}
