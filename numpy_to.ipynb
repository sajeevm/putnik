{
 "cells": [
  {
   "cell_type": "code",
   "execution_count": 21,
   "metadata": {
    "collapsed": false
   },
   "outputs": [
    {
     "name": "stdout",
     "output_type": "stream",
     "text": [
      "2\n",
      "[4 5]\n",
      "[2 3 4 5]\n",
      "3\n",
      "[2 4 6 8]\n",
      "(2, 4)\n",
      "int32\n",
      "2\n",
      "True\n"
     ]
    }
   ],
   "source": [
    "import numpy as np\n",
    "\n",
    "a = np.array([2,3,4,5], int)\n",
    "b = np.array([[2,4,6,8], [1,3,5,7]], int)\n",
    "\n",
    "print(a[0])\n",
    "\n",
    "print(a[2:])\n",
    "\n",
    "print(a[:4])\n",
    "\n",
    "print(b[1,1])\n",
    "\n",
    "print(b[0,:]) #print [2 4 6 8]\n",
    "\n",
    "print(b.shape) \n",
    "\n",
    "print(b.dtype)\n",
    "\n",
    "print(len(b))\n",
    "\n",
    "print(7 in b)"
   ]
  },
  {
   "cell_type": "code",
   "execution_count": 27,
   "metadata": {
    "collapsed": false
   },
   "outputs": [
    {
     "name": "stdout",
     "output_type": "stream",
     "text": [
      "[ 0  1  2  3  4  5  6  7  8  9 10 11]\n",
      "(12,)\n",
      "[[ 0  1  2]\n",
      " [ 3  4  5]\n",
      " [ 6  7  8]\n",
      " [ 9 10 11]]\n",
      "(4, 3)\n"
     ]
    }
   ],
   "source": [
    "import numpy as np\n",
    "\n",
    "a = np.array(range(12), int)\n",
    "print(a)\n",
    "print(a.shape)\n",
    "\n",
    "#NOTE: reshape does not change the original array. It creates a new array with the new shape\n",
    "a = a.reshape((4,3))\n",
    "print(a)\n",
    "print(a.shape)"
   ]
  },
  {
   "cell_type": "code",
   "execution_count": 35,
   "metadata": {
    "collapsed": false
   },
   "outputs": [
    {
     "name": "stdout",
     "output_type": "stream",
     "text": [
      "[ 0  1  2  3  4  5  6  7  8  9 10 11]\n",
      "[0 0 0 0 0 0 0 0 0 0 0 0]\n",
      "[[ 0]\n",
      " [ 1]\n",
      " [ 2]\n",
      " [ 3]\n",
      " [ 4]\n",
      " [ 5]\n",
      " [ 6]\n",
      " [ 7]\n",
      " [ 8]\n",
      " [ 9]\n",
      " [10]\n",
      " [11]]\n"
     ]
    }
   ],
   "source": [
    "import numpy as np\n",
    "\n",
    "a = np.array(range(12), int)\n",
    "print(a)\n",
    "\n",
    "\n",
    "b = a.copy()\n",
    "c = b.tolist()\n",
    "\n",
    "b.fill(0)\n",
    "print(b)\n",
    "\n",
    "d = a[:, np.newaxis]\n",
    "print(d)"
   ]
  },
  {
   "cell_type": "code",
   "execution_count": 38,
   "metadata": {
    "collapsed": false
   },
   "outputs": [
    {
     "name": "stdout",
     "output_type": "stream",
     "text": [
      "[[0 0 0]\n",
      " [0 0 0]\n",
      " [0 0 0]\n",
      " [0 0 0]]\n",
      "[[ 1.  1.  1.  1.  1.]\n",
      " [ 1.  1.  1.  1.  1.]\n",
      " [ 1.  1.  1.  1.  1.]\n",
      " [ 1.  1.  1.  1.  1.]\n",
      " [ 1.  1.  1.  1.  1.]]\n"
     ]
    }
   ],
   "source": [
    "import numpy as np\n",
    "\n",
    "a = np.zeros((4,3), int)\n",
    "print(a)\n",
    "\n",
    "b = np.ones((5,5), float)\n",
    "print(b)"
   ]
  },
  {
   "cell_type": "code",
   "execution_count": 41,
   "metadata": {
    "collapsed": false
   },
   "outputs": [
    {
     "name": "stdout",
     "output_type": "stream",
     "text": [
      "True\n",
      "False\n",
      "[False  True  True  True  True False False]\n"
     ]
    }
   ],
   "source": [
    "import numpy as np\n",
    "\n",
    "a = np.array([True, False, False], bool)\n",
    "\n",
    "#To find any a is True\n",
    "print(any(a))\n",
    "\n",
    "#To firnd all a is True\n",
    "print(all(a))\n",
    "\n",
    "b = np.array([1,3,5,6,8,2,9], int)\n",
    "print(np.logical_and(b >2 , b<9))\n",
    "\n"
   ]
  },
  {
   "cell_type": "code",
   "execution_count": null,
   "metadata": {
    "collapsed": true
   },
   "outputs": [],
   "source": []
  }
 ],
 "metadata": {
  "kernelspec": {
   "display_name": "Python 3",
   "language": "python",
   "name": "python3"
  },
  "language_info": {
   "codemirror_mode": {
    "name": "ipython",
    "version": 3
   },
   "file_extension": ".py",
   "mimetype": "text/x-python",
   "name": "python",
   "nbconvert_exporter": "python",
   "pygments_lexer": "ipython3",
   "version": "3.4.3"
  }
 },
 "nbformat": 4,
 "nbformat_minor": 0
}
