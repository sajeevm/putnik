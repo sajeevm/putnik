{
 "cells": [
  {
   "cell_type": "code",
   "execution_count": 5,
   "metadata": {
    "collapsed": false
   },
   "outputs": [
    {
     "name": "stdout",
     "output_type": "stream",
     "text": [
      "2.25\n",
      "2\n",
      "1\n"
     ]
    }
   ],
   "source": [
    "# samples using python operator\n",
    "\n",
    "print(9/4)\n",
    "print(9//4)\n",
    "print(9%4)"
   ]
  },
  {
   "cell_type": "code",
   "execution_count": 53,
   "metadata": {
    "collapsed": false
   },
   "outputs": [
    {
     "name": "stdout",
     "output_type": "stream",
     "text": [
      "[2, 3, 4, 5, 6]\n",
      "[2, 4, 6]\n",
      "[2, 3, 4, 5, 6, 7, 8, 9, 10, 20]\n",
      " 2 is in the list [2, 3, 4, 5, 6, 7, 8, 9]\n"
     ]
    }
   ],
   "source": [
    "# samples using sequence operations\n",
    "\n",
    "mylist = [2,3,4,5,6,7,8,9]\n",
    "mylist1 = [10,20]\n",
    "print(mylist[0:5]) #display from index 0 to 4\n",
    "print(mylist[0:5:2]) #display from index 0 but skip to 2nd number\n",
    "print(mylist+mylist1)\n",
    "\n",
    "if 2 in mylist:\n",
    "    print(\"\"\" 2 is in the list {}\"\"\".format(mylist))\n",
    "\n"
   ]
  },
  {
   "cell_type": "code",
   "execution_count": 52,
   "metadata": {
    "collapsed": false
   },
   "outputs": [
    {
     "name": "stdout",
     "output_type": "stream",
     "text": [
      "lambda operations\n",
      "map lambda: [4, 5, 6, 7, 8, 9, 10, 11]\n",
      "[2, 4, 6, 8]\n",
      "list comprehension\n",
      "[12, 13, 14, 15, 16, 17, 18, 19]\n",
      "[(3, 4, 5), (5, 12, 13), (6, 8, 10), (7, 24, 25), (8, 15, 17), (9, 12, 15), (10, 24, 26), (12, 16, 20), (15, 20, 25), (20, 21, 29)]\n"
     ]
    }
   ],
   "source": [
    "# samples using lambda operations and list comprehension\n",
    "\n",
    "thelist = [2,3,4,5,6,7,8,9]\n",
    "print(\"\"\"map lambda: {}\"\"\".format(list(map(lambda x: x+2,thelist))))\n",
    "\n",
    "print(list(filter(lambda x: x%2 == 0,thelist)))\n",
    "\n",
    "print(\"list comprehension\")\n",
    "print([(x+10) for x in thelist])\n",
    "\n",
    "#print the pythogorean (x,y,z) such that x^2 + y^2 = z^2... here we go\n",
    "pythogo = [(x,y,z) for x in range(1,30) for y in range(x,30) for z in range(y,30) if x**2 + y**2 == z**2]\n",
    "print(pythogo)\n",
    "\n"
   ]
  },
  {
   "cell_type": "code",
   "execution_count": 2,
   "metadata": {
    "collapsed": false
   },
   "outputs": [
    {
     "name": "stdout",
     "output_type": "stream",
     "text": [
      "[[1, 2], [3, 4]]\n",
      "4\n"
     ]
    }
   ],
   "source": [
    "# 2 dimensional array\n",
    "matrix = []\n",
    "matrix.append([1,2])\n",
    "matrix.append([3,4])\n",
    "\n",
    "print(matrix)\n",
    "print(matrix[1][1])\n"
   ]
  },
  {
   "cell_type": "code",
   "execution_count": 3,
   "metadata": {
    "collapsed": false
   },
   "outputs": [
    {
     "name": "stdout",
     "output_type": "stream",
     "text": [
      "3\n",
      "1 4 6\n",
      "4 7 8\n",
      "8 9 0\n",
      "[[1, 4, 6], [4, 7, 8], [8, 9, 0]]\n"
     ]
    }
   ],
   "source": [
    "# multi-dimensional dynamic array\n",
    "\n",
    "maxnum = int(input())\n",
    "matrix = []\n",
    "\n",
    "#print(matrix)\n",
    "\n",
    "for i in range(maxnum):\n",
    "    temp = [int(x) for x in input().split()]\n",
    "    matrix.insert(i,temp)\n",
    "\n",
    "#print the whole matrix\n",
    "print(matrix)\n",
    "\n",
    "#print one element\n",
    "print(matrix[1][1])\n"
   ]
  },
  {
   "cell_type": "code",
   "execution_count": null,
   "metadata": {
    "collapsed": true
   },
   "outputs": [],
   "source": [
    " #ternary operator\n",
    "    ontime = int(input())\n",
    "    K = int(input())\n",
    "    print(\"NO\") if ontime >= K else print(\"YES\")"
   ]
  },
  {
   "cell_type": "code",
   "execution_count": null,
   "metadata": {
    "collapsed": true
   },
   "outputs": [],
   "source": [
    "#nested list comprehension\n",
    "mylist = [['1', '2', '3', '4'], ['4', '5', '6', '7'], ['4', '3', '4', '3']]\n",
    "\n",
    "\n",
    "trans = [[row[i] for row in mylist] for i in range(4)]\n",
    "\n",
    "print(trans)"
   ]
  },
  {
   "cell_type": "code",
   "execution_count": 1,
   "metadata": {
    "collapsed": false
   },
   "outputs": [
    {
     "name": "stdout",
     "output_type": "stream",
     "text": [
      "['adfa']\n",
      "['adsgag']\n",
      "['dagaga']\n",
      "['sdfaf']\n"
     ]
    }
   ],
   "source": [
    "encode = [['adfa'], ['adsgag'], ['dagaga'], ['sdfaf']]\n",
    "for i,j in enumerate(encode):\n",
    "    print(encode[i])"
   ]
  },
  {
   "cell_type": "code",
   "execution_count": null,
   "metadata": {
    "collapsed": true
   },
   "outputs": [],
   "source": []
  }
 ],
 "metadata": {
  "kernelspec": {
   "display_name": "Python 3",
   "language": "python",
   "name": "python3"
  },
  "language_info": {
   "codemirror_mode": {
    "name": "ipython",
    "version": 3
   },
   "file_extension": ".py",
   "mimetype": "text/x-python",
   "name": "python",
   "nbconvert_exporter": "python",
   "pygments_lexer": "ipython3",
   "version": "3.4.3"
  }
 },
 "nbformat": 4,
 "nbformat_minor": 0
}
